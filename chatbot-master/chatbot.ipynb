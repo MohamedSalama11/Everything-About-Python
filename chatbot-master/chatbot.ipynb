{
 "cells": [
  {
   "cell_type": "markdown",
   "id": "eb0af6d3",
   "metadata": {},
   "source": [
    "# Importing Necessary Libraries"
   ]
  },
  {
   "cell_type": "code",
   "execution_count": 1,
   "id": "3de568a4",
   "metadata": {},
   "outputs": [],
   "source": [
    "import io\n",
    "import random\n",
    "import string # to process standard python strings\n",
    "import warnings\n",
    "import numpy as np\n",
    "from sklearn.feature_extraction.text import TfidfVectorizer\n",
    "from sklearn.metrics.pairwise import cosine_similarity\n",
    "import warnings\n",
    "warnings.filterwarnings('ignore')"
   ]
  },
  {
   "cell_type": "markdown",
   "id": "4047ee55",
   "metadata": {},
   "source": [
    "NLTK, or the Natural Language Toolkit, is a popular Python library for working with human language data, specifically for natural language processing (NLP) and text analysis tasks. NLTK provides easy-to-use interfaces to over 50 corpora and lexical resources, such as WordNet, along with a suite of text processing libraries for tasks like tokenization, stemming, parsing, and more."
   ]
  },
  {
   "cell_type": "markdown",
   "id": "9f8a22aa",
   "metadata": {},
   "source": [
    "#### Installing NLTK Packages"
   ]
  },
  {
   "cell_type": "code",
   "execution_count": 3,
   "id": "804d9d31",
   "metadata": {},
   "outputs": [
    {
     "data": {
      "text/plain": [
       "True"
      ]
     },
     "execution_count": 3,
     "metadata": {},
     "output_type": "execute_result"
    }
   ],
   "source": [
    "import nltk\n",
    "from nltk.stem import WordNetLemmatizer\n",
    "nltk.download('popular', quiet=True) # for downloading packages\n",
    "#nltk.download('punkt') # first-time use only\n",
    "#nltk.download('wordnet') # first-time use only"
   ]
  },
  {
   "cell_type": "code",
   "execution_count": 5,
   "id": "71570246",
   "metadata": {},
   "outputs": [],
   "source": [
    "f = open('chatbot.txt', 'r', errors = 'ignore')\n",
    "raw = f.read()\n",
    "raw = raw.lower() #converts to lowercase"
   ]
  },
  {
   "cell_type": "markdown",
   "id": "55898d38",
   "metadata": {},
   "source": [
    "### Tokenization"
   ]
  },
  {
   "cell_type": "code",
   "execution_count": 6,
   "id": "8def3872",
   "metadata": {},
   "outputs": [],
   "source": [
    "sent_tokens = nltk.sent_tokenize(raw)# converts to list of sentences \n",
    "word_tokens = nltk.word_tokenize(raw) # converts to list of words"
   ]
  },
  {
   "cell_type": "markdown",
   "id": "f2ae4e6f",
   "metadata": {},
   "source": [
    "### Preprocessing"
   ]
  },
  {
   "cell_type": "code",
   "execution_count": 8,
   "id": "d6cc29ed",
   "metadata": {},
   "outputs": [],
   "source": [
    "lemmer = nltk.stem.WordNetLemmatizer()\n",
    "##WordNet is a semantically-oriented dictionary of English included in NLTK.\n",
    "def LemTokens(tokens):\n",
    "    return [lemmer.lemmatize(token) for token in tokens]\n",
    "remove_punct_dict = dict((ord(punct), None) for punct in string.punctuation)\n",
    "def LemNormalize(text):\n",
    "    return LemTokens(nltk.word_tokenize(text.lower().translate(remove_punct_dict)))"
   ]
  },
  {
   "cell_type": "markdown",
   "id": "0a7757c3",
   "metadata": {},
   "source": [
    "#### Keyword Matching"
   ]
  },
  {
   "cell_type": "code",
   "execution_count": 9,
   "id": "a584fdd0",
   "metadata": {},
   "outputs": [],
   "source": [
    "GREETING_INPUTS = (\"hello\", \"hi\", \"greetings\", \"sup\", \"what's up\",\"hey\",)\n",
    "GREETING_RESPONSES = [\"hi\", \"hey\", \"*nods*\", \"hi there\", \"hello\", \"I am glad! You are talking to me\"]\n",
    "def greeting(sentence):\n",
    " \n",
    "    for word in sentence.split():\n",
    "        if word.lower() in GREETING_INPUTS:\n",
    "            return random.choice(GREETING_RESPONSES)"
   ]
  },
  {
   "cell_type": "code",
   "execution_count": 10,
   "id": "26fb001c",
   "metadata": {},
   "outputs": [],
   "source": [
    "def response(user_response):\n",
    "    robo_response=''\n",
    "    sent_tokens.append(user_response)\n",
    "    TfidfVec = TfidfVectorizer(tokenizer=LemNormalize, stop_words='english')\n",
    "    tfidf = TfidfVec.fit_transform(sent_tokens)\n",
    "    vals = cosine_similarity(tfidf[-1], tfidf)\n",
    "    idx=vals.argsort()[0][-2]\n",
    "    flat = vals.flatten()\n",
    "    flat.sort()\n",
    "    req_tfidf = flat[-2]\n",
    "    if(req_tfidf==0):\n",
    "        robo_response=robo_response+\"I am sorry! I don't understand you\"\n",
    "        return robo_response\n",
    "    else:\n",
    "        robo_response = robo_response+sent_tokens[idx]\n",
    "        return robo_response"
   ]
  },
  {
   "cell_type": "markdown",
   "id": "ce8675e7",
   "metadata": {},
   "source": [
    "def response(user_response):: This line defines a function named response that takes one argument user_response. This argument is expected to be a string, representing the input provided by the user.\n",
    "\n",
    "robo_response = '': Initializes an empty string variable named robo_response to store the response that the chatbot will generate.\n",
    "\n",
    "sent_tokens.append(user_response): This line appends the user's input to a list called sent_tokens. This list is used to store the tokens (words or phrases) from previous user inputs and will be used to compute a response based on the user's query.\n",
    "\n",
    "TfidfVec = TfidfVectorizer(tokenizer=LemNormalize, stop_words='english'): This line initializes a TF-IDF (Term Frequency-Inverse Document Frequency) vectorizer. TF-IDF is a numerical statistic that reflects the importance of a word or phrase within a collection of documents. In this case, it is used to convert the text data into numerical vectors for further processing. The tokenizer argument specifies a function LemNormalize for tokenization, and stop_words='english' indicates that common English stop words should be ignored during vectorization.\n",
    "\n",
    "tfidf = TfidfVec.fit_transform(sent_tokens): This line uses the TF-IDF vectorizer to transform the list sent_tokens into a matrix of TF-IDF values. Each row in the matrix corresponds to a sentence or input in sent_tokens, and each column corresponds to a unique word or phrase in the entire collection of inputs.\n",
    "\n",
    "vals = cosine_similarity(tfidf[-1], tfidf): This line calculates the cosine similarity between the TF-IDF vector of the last element in sent_tokens (which is the user's input) and all the other vectors in the tfidf matrix. Cosine similarity is a measure of how similar two vectors are and is often used in natural language processing to determine the similarity between text documents.\n",
    "\n",
    "idx = vals.argsort()[0][-2]: This line finds the index of the sentence in sent_tokens that has the second-highest cosine similarity with the user's input. It assumes that the highest similarity (with itself) will always be at the end of the vals array.\n",
    "\n",
    "flat = vals.flatten(): This line flattens the vals matrix into a one-dimensional array.\n",
    "\n",
    "flat.sort(): The array of cosine similarity values is sorted in ascending order.\n",
    "\n",
    "req_tfidf = flat[-2]: This line retrieves the second-to-last value in the sorted array of cosine similarity values, which represents the cosine\n",
    "\n"
   ]
  },
  {
   "cell_type": "code",
   "execution_count": 13,
   "id": "c45d7eeb",
   "metadata": {},
   "outputs": [
    {
     "name": "stdout",
     "output_type": "stream",
     "text": [
      "Julie: My name is Julie. I will answer your queries about Chatbots. If you want to exit, type Bye!\n",
      "Hi\n",
      "Julie: hey\n",
      "Bye\n",
      "Julie: Bye! take care..\n"
     ]
    }
   ],
   "source": [
    "flag=True\n",
    "print(\"Julie: My name is Julie. I will answer your queries about Chatbots. If you want to exit, type Bye!\")\n",
    "while(flag==True):\n",
    "    user_response = input()\n",
    "    user_response=user_response.lower()\n",
    "    if(user_response!='bye'):\n",
    "        if(user_response=='thanks' or user_response=='thank you' ):\n",
    "            flag=False\n",
    "            print(\"Julie: You are welcome..\")\n",
    "        else:\n",
    "            if(greeting(user_response)!=None):\n",
    "                print(\"Julie: \"+greeting(user_response))\n",
    "            else:\n",
    "                print(\"Julie: \",end=\"\")\n",
    "                print(response(user_response))\n",
    "                sent_tokens.remove(user_response)\n",
    "    else:\n",
    "        flag=False\n",
    "        print(\"Julie: Bye! take care..\")"
   ]
  },
  {
   "cell_type": "code",
   "execution_count": null,
   "id": "c5b61bbc",
   "metadata": {},
   "outputs": [],
   "source": []
  }
 ],
 "metadata": {
  "kernelspec": {
   "display_name": "Python 3 (ipykernel)",
   "language": "python",
   "name": "python3"
  },
  "language_info": {
   "codemirror_mode": {
    "name": "ipython",
    "version": 3
   },
   "file_extension": ".py",
   "mimetype": "text/x-python",
   "name": "python",
   "nbconvert_exporter": "python",
   "pygments_lexer": "ipython3",
   "version": "3.10.5"
  }
 },
 "nbformat": 4,
 "nbformat_minor": 5
}
